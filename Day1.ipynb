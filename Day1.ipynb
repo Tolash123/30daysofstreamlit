{
 "cells": [
  {
   "cell_type": "markdown",
   "metadata": {},
   "source": [
    "Day 1"
   ]
  },
  {
   "cell_type": "markdown",
   "metadata": {},
   "source": [
    "### Setting up a local development environment\n",
    "\n",
    "Before we can actually start building Streamlit apps, we will first have to setup a development environment."
   ]
  },
  {
   "cell_type": "markdown",
   "metadata": {},
   "source": [
    "Install the Streamlit library\n",
    "It's now time to install the streamlit library:\n",
    "\n",
    "> pip install streamlit"
   ]
  },
  {
   "cell_type": "markdown",
   "metadata": {},
   "source": [
    "Launching the Streamlit demo app\n",
    "To launch the Streamlit demo app (Figure 1) type:\n",
    "\n",
    "> streamlit hello"
   ]
  }
 ],
 "metadata": {
  "language_info": {
   "name": "python"
  }
 },
 "nbformat": 4,
 "nbformat_minor": 2
}
