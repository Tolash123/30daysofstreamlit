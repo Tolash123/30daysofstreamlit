{
 "cells": [
  {
   "cell_type": "markdown",
   "metadata": {},
   "source": [
    "# st.form\n",
    "st.form creates a form that batches elements together with a \"Submit\" button.\n",
    "\n",
    "Typically, whenever a user interacts with a widget, the Streamlit app is rerun.\n",
    "\n",
    "A form is a container that visually groups other elements and widgets together, and contains a Submit button. Herein, a user can interacts with one or more widgets for as many times as they like without causing a rerun. Finally, when the form's Submit button is pressed, all widget values inside the form will be sent to Streamlit in a single batch.\n",
    "\n",
    "To add elements to a form object, you can use the with notation (preferred) or you could use it as an object notation by just calling methods directly on the form (by first assigning it to a variable and subsequently applying Streamlit methods on it). See in the example app.\n",
    "\n",
    "### Forms have a few constraints:\n",
    "\n",
    "Every form must contain a st.form_submit_button.\n",
    "st.button and st.download_button cannot be added to a form.\n",
    "Forms can appear anywhere in your app (sidebar, columns, etc), but they cannot be embedded inside other forms."
   ]
  },
  {
   "cell_type": "code",
   "execution_count": null,
   "metadata": {},
   "outputs": [],
   "source": [
    "import streamlit as st\n",
    "\n",
    "st.title('st.form')\n",
    "\n",
    "# Full example of using the with notation\n",
    "st.header('1. Example of using `with` notation')\n",
    "st.subheader('Coffee machine')\n",
    "\n",
    "with st.form('my_form'):\n",
    "    st.subheader('**Order your coffee**')\n",
    "    \n",
    "    # Input widgets\n",
    "    coffee_bean_val = st.selectbox('Coffee bean', ['Arabica', 'Robusta'])\n",
    "    coffee_roast_val = st.selectbox('Coffee roast', ['Light', 'Medium', 'Dark'])\n",
    "    brewing_val = st.selectbox('Brewing method', ['Aeropress', 'Drip', 'French press', 'Moka pot', 'Siphon'])\n",
    "    serving_type_val = st.selectbox('Serving format', ['Hot', 'Iced', 'Frappe'])\n",
    "    milk_val = st.select_slider('Milk intensity', ['None', 'Low', 'Medium', 'High'])\n",
    "    owncup_val = st.checkbox('Bring own cup')\n",
    "    \n",
    "    # Every form must have a submit button\n",
    "    submitted = st.form_submit_button('Submit')\n",
    "\n",
    "if submitted:\n",
    "    st.markdown(f'''\n",
    "        ☕ You have ordered:\n",
    "        - Coffee bean: `{coffee_bean_val}`\n",
    "        - Coffee roast: `{coffee_roast_val}`\n",
    "        - Brewing: `{brewing_val}`\n",
    "        - Serving type: `{serving_type_val}`\n",
    "        - Milk: `{milk_val}`\n",
    "        - Bring own cup: `{owncup_val}`\n",
    "        ''')\n",
    "else:\n",
    "    st.write('☝️ Place your order!')\n",
    "\n",
    "\n",
    "# Short example of using an object notation\n",
    "st.header('2. Example of object notation')\n",
    "\n",
    "form = st.form('my_form_2')\n",
    "selected_val = form.slider('Select a value')\n",
    "form.form_submit_button('Submit')\n",
    "\n",
    "st.write('Selected value: ', selected_val)"
   ]
  }
 ],
 "metadata": {
  "language_info": {
   "name": "python"
  }
 },
 "nbformat": 4,
 "nbformat_minor": 2
}
