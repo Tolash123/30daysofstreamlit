{
 "cells": [
  {
   "cell_type": "markdown",
   "metadata": {},
   "source": [
    "# Customizing the theme of Streamlit apps\n",
    "We can customize the theme by adjusting parameters in config.toml, which is a configuration file stored in the same folder as the app in the .streamlit folder.\n",
    "\n",
    "### What we're building?\n",
    "A simple app that shows the result of our theme customization. This is made possible by customizing the HTML HEX code inside the .streamlit/config.toml file."
   ]
  },
  {
   "cell_type": "markdown",
   "metadata": {},
   "source": [
    "## Code"
   ]
  },
  {
   "cell_type": "code",
   "execution_count": null,
   "metadata": {},
   "outputs": [],
   "source": [
    "import streamlit as st\n",
    "\n",
    "st.title('Customizing the theme of Streamlit apps')\n",
    "\n",
    "st.write('Contents of the `.streamlit/config.toml` file of this app')\n",
    "\n",
    "st.code(\"\"\"\n",
    "[theme]\n",
    "primaryColor=\"#F39C12\"\n",
    "backgroundColor=\"#2E86C1\"\n",
    "secondaryBackgroundColor=\"#AED6F1\"\n",
    "textColor=\"#FFFFFF\"\n",
    "font=\"monospace\"\n",
    "\"\"\")\n",
    "\n",
    "number = st.sidebar.slider('Select a number:', 0, 10, 5)\n",
    "st.write('Selected number from slider widget is:', number)"
   ]
  }
 ],
 "metadata": {
  "language_info": {
   "name": "python"
  }
 },
 "nbformat": 4,
 "nbformat_minor": 2
}
