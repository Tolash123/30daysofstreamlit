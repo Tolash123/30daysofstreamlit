{
 "cells": [
  {
   "cell_type": "markdown",
   "metadata": {},
   "source": [
    "# st.checkbox\n",
    "st.checkbox displays a checkbox widget."
   ]
  },
  {
   "cell_type": "code",
   "execution_count": null,
   "metadata": {},
   "outputs": [],
   "source": [
    "# code\n",
    "import streamlit as st\n",
    "\n",
    "st.header('st.checkbox')\n",
    "\n",
    "st.write ('What would you like to order?')\n",
    "\n",
    "icecream = st.checkbox('Ice cream')\n",
    "coffee = st.checkbox('Coffee')\n",
    "cola = st.checkbox('Cola')\n",
    "\n",
    "if icecream:\n",
    "     st.write(\"Great! Here's some more 🍦\")\n",
    "    \n",
    "if coffee: \n",
    "     st.write(\"Okay, here's some coffee ☕\")\n",
    "\n",
    "if cola:\n",
    "     st.write(\"Here you go 🥤\")"
   ]
  }
 ],
 "metadata": {
  "language_info": {
   "name": "python"
  }
 },
 "nbformat": 4,
 "nbformat_minor": 2
}
