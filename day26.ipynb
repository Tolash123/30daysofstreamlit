{
 "cells": [
  {
   "cell_type": "markdown",
   "metadata": {},
   "source": [
    "# How to use API by building the Bored API app\n",
    "The Bored API app suggests fun things for you to do when you are bored!\n",
    "\n",
    "Technically, it also demonstrates the usage of APIs from within a Streamlit app."
   ]
  },
  {
   "cell_type": "code",
   "execution_count": null,
   "metadata": {},
   "outputs": [],
   "source": [
    "import streamlit as st\n",
    "import requests\n",
    "\n",
    "st.title('🏀 Bored API app')\n",
    "\n",
    "st.sidebar.header('Input')\n",
    "selected_type = st.sidebar.selectbox('Select an activity type', [\"education\", \"recreational\", \"social\", \"diy\", \"charity\", \"cooking\", \"relaxation\", \"music\", \"busywork\"])\n",
    "\n",
    "suggested_activity_url = f'http://www.boredapi.com/api/activity?type={selected_type}'\n",
    "json_data = requests.get(suggested_activity_url)\n",
    "suggested_activity = json_data.json()\n",
    "\n",
    "c1, c2 = st.columns(2)\n",
    "with c1:\n",
    "  with st.expander('About this app'):\n",
    "    st.write('Are you bored? The **Bored API app** provides suggestions on activities that you can do when you are bored. This app is powered by the Bored API.')\n",
    "with c2:\n",
    "  with st.expander('JSON data'):\n",
    "    st.write(suggested_activity)\n",
    "    \n",
    "st.header('Suggested activity')\n",
    "st.info(suggested_activity['activity'])\n",
    "\n",
    "col1, col2, col3 = st.columns(3)\n",
    "with col1:\n",
    "  st.metric(label='Number of Participants', value=suggested_activity['participants'], delta='')\n",
    "with col2:\n",
    "  st.metric(label='Type of Activity', value=suggested_activity['type'].capitalize(), delta='')\n",
    "with col3:\n",
    "  st.metric(label='Price', value=suggested_activity['price'], delta='')"
   ]
  }
 ],
 "metadata": {
  "language_info": {
   "name": "python"
  }
 },
 "nbformat": 4,
 "nbformat_minor": 2
}
