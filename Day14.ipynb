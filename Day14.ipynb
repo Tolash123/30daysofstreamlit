{
 "cells": [
  {
   "cell_type": "markdown",
   "metadata": {},
   "source": [
    "# Streamlit Components\n",
    "Components are third-party Python modules that extend what's possible with Streamlit.\n",
    "\n",
    "## What Streamlit components are available?\n",
    "There are several dozens of Streamlit components featured on Streamlit's website.\n",
    "\n",
    "Fanilo (a Streamlit Creator) curated an amazing list of Streamlit components on a wiki post that lists about 85 Streamlit components as of April 2022.\n",
    "\n",
    "# How to use?\n",
    "Streamlit components are just a pip-install away.\n",
    "\n",
    "In this tutorial, let's get you started in using the streamlit_pandas_profiling component [4].\n",
    "\n",
    "Install the component\n",
    "pip install streamlit_pandas_profiling"
   ]
  },
  {
   "cell_type": "code",
   "execution_count": null,
   "metadata": {},
   "outputs": [],
   "source": [
    "import streamlit as st\n",
    "import pandas as pd\n",
    "import ydata_profiling\n",
    "from streamlit_pandas_profiling import st_profile_report\n",
    "\n",
    "st.header('`streamlit_pandas_profiling`')\n",
    "\n",
    "df = pd.read_csv('https://raw.githubusercontent.com/dataprofessor/data/master/penguins_cleaned.csv')\n",
    "\n",
    "pr = df.profile_report()\n",
    "st_profile_report(pr)"
   ]
  },
  {
   "cell_type": "code",
   "execution_count": null,
   "metadata": {},
   "outputs": [],
   "source": [
    "! pip install streamlit_pandas_profiling"
   ]
  }
 ],
 "metadata": {
  "kernelspec": {
   "display_name": "Python 3",
   "language": "python",
   "name": "python3"
  },
  "language_info": {
   "codemirror_mode": {
    "name": "ipython",
    "version": 3
   },
   "file_extension": ".py",
   "mimetype": "text/x-python",
   "name": "python",
   "nbconvert_exporter": "python",
   "pygments_lexer": "ipython3",
   "version": "3.9.2"
  }
 },
 "nbformat": 4,
 "nbformat_minor": 2
}
