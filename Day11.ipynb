{
 "cells": [
  {
   "cell_type": "markdown",
   "metadata": {},
   "source": [
    "# st.multiselect\n",
    "st.multiselect displays a multiselect widget."
   ]
  },
  {
   "cell_type": "code",
   "execution_count": null,
   "metadata": {},
   "outputs": [],
   "source": [
    "# Code\n",
    "#Here's how to use st.multiselect:\n",
    "\n",
    "import streamlit as st\n",
    "\n",
    "st.header('st.multiselect')\n",
    "\n",
    "options = st.multiselect(\n",
    "     'What are your favorite colors',\n",
    "     ['Green', 'Yellow', 'Red', 'Blue'],\n",
    "     ['Yellow', 'Red'])\n",
    "\n",
    "st.write('You selected:', options)"
   ]
  }
 ],
 "metadata": {
  "language_info": {
   "name": "python"
  }
 },
 "nbformat": 4,
 "nbformat_minor": 2
}
