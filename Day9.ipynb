{
 "cells": [
  {
   "cell_type": "markdown",
   "metadata": {},
   "source": [
    "# st.line_chart\n",
    "st.line_chart displays a line chart.\n",
    "\n",
    "This is syntax-sugar around st.altair_chart. The main difference is this command uses the data's own column and indices to figure out the chart's spec. As a result this is easier to use for many \"just plot this\" scenarios, while being less customizable.\n",
    "\n",
    "If st.line_chart does not guess the data specification correctly, try specifying your desired chart using st.altair_chart.\n",
    "\n",
    "## What we're building?\n",
    "A simple app for displaying a line chart.\n",
    "\n",
    "Flow of the app:\n",
    "\n",
    "Create a Pandas DataFrame from numbers randomly generated via NumPy.\n",
    "Create and display the line chart via st.line_chart() command."
   ]
  },
  {
   "cell_type": "code",
   "execution_count": null,
   "metadata": {},
   "outputs": [],
   "source": [
    "# code\n",
    "\n",
    "import streamlit as st\n",
    "import pandas as pd\n",
    "import numpy as np\n",
    "\n",
    "st.header('Line chart')\n",
    "\n",
    "chart_data = pd.DataFrame(\n",
    "     np.random.randn(20, 3),\n",
    "     columns=['a', 'b', 'c'])\n",
    "\n",
    "st.line_chart(chart_data)\n"
   ]
  }
 ],
 "metadata": {
  "language_info": {
   "name": "python"
  }
 },
 "nbformat": 4,
 "nbformat_minor": 2
}
