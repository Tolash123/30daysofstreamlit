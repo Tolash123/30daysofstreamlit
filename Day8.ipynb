{
 "cells": [
  {
   "cell_type": "markdown",
   "metadata": {},
   "source": [
    "# st.slider\n",
    "st.slider allows the display of a slider input widget.\n",
    "\n",
    "The following data types are supported: int, float, date, time, and datetime.\n",
    "\n",
    "# What we're building?\n",
    "A simple app that shows the various ways on how to accept user input by adjusting the slider widget.\n",
    "\n",
    "Flow of the app:\n",
    "\n",
    "User selects value by adjusting the slider widget\n",
    "App prints out the selected value"
   ]
  },
  {
   "cell_type": "markdown",
   "metadata": {},
   "source": [
    "Code"
   ]
  },
  {
   "cell_type": "code",
   "execution_count": null,
   "metadata": {},
   "outputs": [],
   "source": [
    "import streamlit as st\n",
    "from datetime import time, datetime\n",
    "\n",
    "st.header('st.slider')\n",
    "\n",
    "# Example 1\n",
    "\n",
    "st.subheader('Slider')\n",
    "\n",
    "age = st.slider('How old are you?', 0, 130, 25)\n",
    "st.write(\"I'm \", age, 'years old')\n",
    "\n",
    "# Example 2\n",
    "\n",
    "st.subheader('Range slider')\n",
    "\n",
    "values = st.slider(\n",
    "     'Select a range of values',\n",
    "     0.0, 100.0, (25.0, 75.0))\n",
    "st.write('Values:', values)\n",
    "\n",
    "# Example 3\n",
    "\n",
    "st.subheader('Range time slider')\n",
    "\n",
    "appointment = st.slider(\n",
    "     \"Schedule your appointment:\",\n",
    "     value=(time(11, 30), time(12, 45)))\n",
    "st.write(\"You're scheduled for:\", appointment)\n",
    "\n",
    "# Example 4\n",
    "\n",
    "st.subheader('Datetime slider')\n",
    "\n",
    "start_time = st.slider(\n",
    "     \"When do you start?\",\n",
    "     value=datetime(2020, 1, 1, 9, 30),\n",
    "     format=\"MM/DD/YY - hh:mm\")\n",
    "st.write(\"Start time:\", start_time)\n"
   ]
  }
 ],
 "metadata": {
  "language_info": {
   "name": "python"
  }
 },
 "nbformat": 4,
 "nbformat_minor": 2
}
