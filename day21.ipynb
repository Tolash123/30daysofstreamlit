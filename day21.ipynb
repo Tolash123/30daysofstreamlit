{
 "cells": [
  {
   "cell_type": "markdown",
   "metadata": {},
   "source": [
    "# st.progress\n",
    "st.progress displays a progress bar that updates graphically as the iteration progresses."
   ]
  },
  {
   "cell_type": "code",
   "execution_count": null,
   "metadata": {},
   "outputs": [],
   "source": [
    "import streamlit as st\n",
    "import time\n",
    "\n",
    "st.title('st.progress')\n",
    "\n",
    "with st.expander('About this app'):\n",
    "     st.write('You can now display the progress of your calculations in a Streamlit app with the `st.progress` command.')\n",
    "\n",
    "my_bar = st.progress(0)\n",
    "\n",
    "for percent_complete in range(100):\n",
    "     time.sleep(0.05)\n",
    "     my_bar.progress(percent_complete + 1)\n",
    "\n",
    "st.balloons()"
   ]
  }
 ],
 "metadata": {
  "language_info": {
   "name": "python"
  }
 },
 "nbformat": 4,
 "nbformat_minor": 2
}
