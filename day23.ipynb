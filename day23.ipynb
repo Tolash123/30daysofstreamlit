{
 "cells": [
  {
   "cell_type": "markdown",
   "metadata": {},
   "source": [
    "# st.experimental_get_query_params\n",
    "\n",
    "st.experimental_get_query_params allows the retrieval of query parameters directly from the URL of the user's browser."
   ]
  },
  {
   "cell_type": "code",
   "execution_count": null,
   "metadata": {},
   "outputs": [],
   "source": [
    "import streamlit as st\n",
    "\n",
    "st.title('st.experimental_get_query_params')\n",
    "\n",
    "with st.expander('About this app'):\n",
    "  st.write(\"`st.experimental_get_query_params` allows the retrieval of query parameters directly from the URL of the user's browser.\")\n",
    "\n",
    "# 1. Instructions\n",
    "st.header('1. Instructions')\n",
    "st.markdown('''\n",
    "In the above URL bar of your internet browser, append the following:\n",
    "`?firstname=Jack&surname=Beanstalk`\n",
    "after the base URL `http://share.streamlit.io/dataprofessor/st.experimental_get_query_params/`\n",
    "such that it becomes \n",
    "`http://share.streamlit.io/dataprofessor/st.experimental_get_query_params/?firstname=Jack&surname=Beanstalk`\n",
    "''')\n",
    "\n",
    "\n",
    "# 2. Contents of st.experimental_get_query_params\n",
    "st.header('2. Contents of st.experimental_get_query_params')\n",
    "st.write(st.experimental_get_query_params())\n",
    "\n",
    "\n",
    "# 3. Retrieving and displaying information from the URL\n",
    "st.header('3. Retrieving and displaying information from the URL')\n",
    "\n",
    "firstname = st.experimental_get_query_params()['firstname'][0]\n",
    "surname = st.experimental_get_query_params()['surname'][0]\n",
    "\n",
    "st.write(f'Hello **{firstname} {surname}**, how are you?')"
   ]
  }
 ],
 "metadata": {
  "language_info": {
   "name": "python"
  }
 },
 "nbformat": 4,
 "nbformat_minor": 2
}
