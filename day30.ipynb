{
 "cells": [
  {
   "cell_type": "markdown",
   "metadata": {},
   "source": [
    "# The Art of Creating Streamlit Apps\n",
    "\n",
    "Day 30 of the #30DaysOfStreamlit challenge. Congratulations on making this far in the challenge.\n",
    "\n",
    "In this tutorial, we're going to put our newfound knowledge from this learning challenge to create Streamlit apps to solve real-world problem.\n",
    "\n",
    "Real-world problem\n",
    "As a content creator, having access to thumbnail images from YouTube videos are useful resources for social promotion and content creation.\n",
    "\n",
    "Let's figure out how we're going to tackle this problem and build a Streamlit app.\n",
    "\n",
    "Solution\n",
    "Today, we're going to build yt-img-app, which is a Streamlit app that can extract thumbnail images from YouTube videos.\n",
    "\n",
    "In a nutshell, here's the 3 simple steps that we want the Streamlit app to do:\n",
    "\n",
    "Accept a YouTube URL as input from users\n",
    "Perform text processing of the URL to extract the unique YouTube video ID\n",
    "Use the YouTube video ID as an input to a custom function that retrieves and displays the thumbnail image from YouTube videos\n",
    "Instructions\n",
    "To get started in using the Streamlit app, copy and paste a YouTube URL into the input text box."
   ]
  },
  {
   "cell_type": "code",
   "execution_count": null,
   "metadata": {},
   "outputs": [],
   "source": [
    "import streamlit as st\n",
    "\n",
    "st.title('🖼️ yt-img-app')\n",
    "st.header('YouTube Thumbnail Image Extractor App')\n",
    "\n",
    "with st.expander('About this app'):\n",
    "  st.write('This app retrieves the thumbnail image from a YouTube video.')\n",
    "  \n",
    "# Image settings\n",
    "st.sidebar.header('Settings')\n",
    "img_dict = {'Max': 'maxresdefault', 'High': 'hqdefault', 'Medium': 'mqdefault', 'Standard': 'sddefault'}\n",
    "selected_img_quality = st.sidebar.selectbox('Select image quality', ['Max', 'High', 'Medium', 'Standard'])\n",
    "img_quality = img_dict[selected_img_quality]\n",
    "\n",
    "yt_url = st.text_input('Paste YouTube URL', 'https://youtu.be/JwSS70SZdyM')\n",
    "\n",
    "def get_ytid(input_url):\n",
    "  if 'youtu.be' in input_url:\n",
    "    ytid = input_url.split('/')[-1]\n",
    "  if 'youtube.com' in input_url:\n",
    "    ytid = input_url.split('=')[-1]\n",
    "  return ytid\n",
    "    \n",
    "# Display YouTube thumbnail image\n",
    "if yt_url != '':\n",
    "  ytid = get_ytid(yt_url) # yt or yt_url\n",
    "\n",
    "  yt_img = f'http://img.youtube.com/vi/{ytid}/{img_quality}.jpg'\n",
    "  st.image(yt_img)\n",
    "  st.write('YouTube video thumbnail image URL: ', yt_img)\n",
    "else:\n",
    "  st.write('☝️ Enter URL to continue ...')"
   ]
  }
 ],
 "metadata": {
  "language_info": {
   "name": "python"
  }
 },
 "nbformat": 4,
 "nbformat_minor": 2
}
