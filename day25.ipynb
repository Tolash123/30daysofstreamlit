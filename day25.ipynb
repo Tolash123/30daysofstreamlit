{
 "cells": [
  {
   "cell_type": "markdown",
   "metadata": {},
   "source": [
    "# st.session_state\n",
    "\n",
    "We define access to a Streamlit app in a browser tab as a session. For each browser tab that connects to the Streamlit server, a new session is created. Streamlit reruns your script from top to bottom every time you interact with your app. Each reruns takes place in a blank slate: no variables are shared between runs.\n",
    "\n",
    "Session State is a way to share variables between reruns, for each user session. In addition to the ability to store and persist state, Streamlit also exposes the ability to manipulate state using Callbacks.\n",
    "\n",
    "In this tutorial, we will illustrate the usage of Session State and Callbacks as we build a weight conversion app.\n",
    "\n",
    "st.session_state allows the implementation of session state in a Streamlit app."
   ]
  },
  {
   "cell_type": "code",
   "execution_count": null,
   "metadata": {},
   "outputs": [],
   "source": [
    "import streamlit as st\n",
    "\n",
    "st.title('st.session_state')\n",
    "\n",
    "def lbs_to_kg():\n",
    "  st.session_state.kg = st.session_state.lbs/2.2046\n",
    "def kg_to_lbs():\n",
    "  st.session_state.lbs = st.session_state.kg*2.2046\n",
    "\n",
    "st.header('Input')\n",
    "col1, spacer, col2 = st.columns([2,1,2])\n",
    "with col1:\n",
    "  pounds = st.number_input(\"Pounds:\", key = \"lbs\", on_change = lbs_to_kg)\n",
    "with col2:\n",
    "  kilogram = st.number_input(\"Kilograms:\", key = \"kg\", on_change = kg_to_lbs)\n",
    "\n",
    "st.header('Output')\n",
    "st.write(\"st.session_state object:\", st.session_state)"
   ]
  }
 ],
 "metadata": {
  "language_info": {
   "name": "python"
  }
 },
 "nbformat": 4,
 "nbformat_minor": 2
}
