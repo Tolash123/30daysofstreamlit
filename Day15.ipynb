{
 "cells": [
  {
   "cell_type": "markdown",
   "metadata": {},
   "source": [
    "# st.latex\n",
    "st.latex display mathematical expressions formatted as LaTeX.\n",
    "\n",
    "## What we're building?\n",
    "A simple app that displays a mathematical equation using LaTeX syntax via the st.latex command."
   ]
  },
  {
   "cell_type": "markdown",
   "metadata": {},
   "source": [
    "#### Code"
   ]
  },
  {
   "cell_type": "code",
   "execution_count": null,
   "metadata": {},
   "outputs": [],
   "source": [
    "import streamlit as st\n",
    "\n",
    "st.header('st.latex')\n",
    "\n",
    "st.latex(r'''\n",
    "     a + ar + a r^2 + a r^3 + \\cdots + a r^{n-1} =\n",
    "     \\sum_{k=0}^{n-1} ar^k =\n",
    "     a \\left(\\frac{1-r^{n}}{1-r}\\right)\n",
    "     ''')"
   ]
  }
 ],
 "metadata": {
  "language_info": {
   "name": "python"
  }
 },
 "nbformat": 4,
 "nbformat_minor": 2
}
