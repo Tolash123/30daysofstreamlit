{
 "cells": [
  {
   "cell_type": "markdown",
   "metadata": {},
   "source": [
    "# st.write\n",
    "\n",
    "st.write allows writing text and arguments to the Streamlit app.\n",
    "\n",
    "In addition to being able to display text, the following can also be displayed via the st.write() command:\n",
    "\n",
    "Prints strings; works like st.markdown()\n",
    "Displays a Python dict\n",
    "Displays pandas DataFrame can be displayed as a table\n",
    "Plots/graphs/figures from matplotlib, plotly, altair, graphviz, bokeh\n",
    "And more (see st.write on API docs)\n",
    "What we're building?\n",
    "A simple app showing the various ways on how to use the st.write() command for displaying text, numbers, DataFrames and plots."
   ]
  },
  {
   "cell_type": "code",
   "execution_count": null,
   "metadata": {},
   "outputs": [],
   "source": [
    "# Here's how to use st.write:\n",
    "\n",
    "import numpy as np\n",
    "import altair as alt\n",
    "import pandas as pd\n",
    "import streamlit as st\n",
    "\n",
    "st.header('st.write')\n",
    "\n",
    "# Example 1\n",
    "\n",
    "st.write('Hello, *World!* :sunglasses:')\n",
    "\n",
    "# Example 2\n",
    "\n",
    "st.write(1234)\n",
    "\n",
    "# Example 3\n",
    "\n",
    "df = pd.DataFrame({\n",
    "     'first column': [1, 2, 3, 4],\n",
    "     'second column': [10, 20, 30, 40]\n",
    "     })\n",
    "st.write(df)\n",
    "\n",
    "# Example 4\n",
    "\n",
    "st.write('Below is a DataFrame:', df, 'Above is a dataframe.')\n",
    "\n",
    "# Example 5\n",
    "\n",
    "df2 = pd.DataFrame(\n",
    "     np.random.randn(200, 3),\n",
    "     columns=['a', 'b', 'c'])\n",
    "c = alt.Chart(df2).mark_circle().encode(\n",
    "     x='a', y='b', size='c', color='c', tooltip=['a', 'b', 'c'])\n",
    "st.write(c)"
   ]
  }
 ],
 "metadata": {
  "language_info": {
   "name": "python"
  }
 },
 "nbformat": 4,
 "nbformat_minor": 2
}
