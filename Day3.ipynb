{
 "cells": [
  {
   "cell_type": "markdown",
   "metadata": {},
   "source": [
    "# st.button\n",
    "\n",
    "st.button allows the display of a button widget.\n",
    "\n",
    "- What we're building?\n",
    "A simple app that performs conditionally prints out alternative messages depending on whether the button was pressed or not.\n",
    "\n",
    "Flow of the app:\n",
    "\n",
    "By default, the app prints Goodbye\n",
    "Upon clicking on the button, the app displays the alternative message Why hello there"
   ]
  },
  {
   "cell_type": "code",
   "execution_count": null,
   "metadata": {
    "vscode": {
     "languageId": "plaintext"
    }
   },
   "outputs": [],
   "source": [
    "# Here's the code to implement the above mentioned app:\n",
    "\n",
    "import streamlit as st\n",
    "\n",
    "st.header('st.button')\n",
    "\n",
    "if st.button('Say hello'):\n",
    "     st.write('Why hello there')\n",
    "else:\n",
    "     st.write('Goodbye')"
   ]
  },
  {
   "cell_type": "markdown",
   "metadata": {},
   "source": [
    "## Line-by-line explanation\n",
    "\n",
    "The very first thing to do when creating a Streamlit app is to start by importing the streamlit library as st like so:\n",
    "\n",
    "import streamlit as st\n",
    "This is followed by creating a header text for the app:\n",
    "\n",
    "st.header('st.button')\n",
    "Next, we will use conditional statements if and else for printing alternative messages.\n",
    "\n",
    "if st.button('Say hello'):\n",
    "     st.write('Why hello there')\n",
    "else:\n",
    "     st.write('Goodbye')\n",
    "As we can see from the above code box, the st.button() command accepts the label input argument of Say hello, which is the text that the button displays.\n",
    "\n",
    "The st.write command is used to print text messages of either Why hello there or Goodbye depending on whether the button was clicked or not, which is implemented via:\n",
    "\n",
    "st.write('Why hello there')\n",
    "and\n",
    "\n",
    "st.write('Goodbye')\n",
    "It is important to note that the above st.write statements are placed under the if and else conditions in order to perform the above mentioned process of alternative displaying of messages"
   ]
  }
 ],
 "metadata": {
  "language_info": {
   "name": "python"
  }
 },
 "nbformat": 4,
 "nbformat_minor": 2
}
