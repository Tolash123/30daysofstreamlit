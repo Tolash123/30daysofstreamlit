{
 "cells": [
  {
   "cell_type": "markdown",
   "metadata": {},
   "source": [
    "Day 2"
   ]
  },
  {
   "cell_type": "markdown",
   "metadata": {},
   "source": [
    "### Fire up your IDE\n",
    "Fire up your IDE whether it be Atom, VS Code or even a cloud IDE such as GitPod or GitHub.dev.\n",
    "\n",
    "Create a file called streamlit.py\n",
    "\n",
    "Entering your first lines of code\n",
    "To the newly created file, enter the following lines of code:"
   ]
  },
  {
   "cell_type": "code",
   "execution_count": null,
   "metadata": {},
   "outputs": [],
   "source": [
    "import streamlit as st\n",
    "st.write('Hello world')"
   ]
  },
  {
   "cell_type": "markdown",
   "metadata": {},
   "source": [
    "#### Fire up the command line terminal\n",
    "To the terminal, enter the following:\n",
    "\n",
    "streamlit run streamlit.py\n",
    "A browser window should pop-up showing the newly created Streamlit app.\n",
    "\n",
    "Congratulations! You have just created your first Streamlit app!"
   ]
  }
 ],
 "metadata": {
  "language_info": {
   "name": "python"
  }
 },
 "nbformat": 4,
 "nbformat_minor": 2
}
