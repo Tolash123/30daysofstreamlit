{
 "cells": [
  {
   "cell_type": "markdown",
   "metadata": {},
   "source": [
    "# st.file_uploader\n",
    "st.file_uploader displays a file uploader widget [1].\n",
    "\n",
    "By default, uploaded files are limited to 200MB. You can configure this using the server.maxUploadSize config option."
   ]
  },
  {
   "cell_type": "code",
   "execution_count": null,
   "metadata": {},
   "outputs": [],
   "source": [
    "import streamlit as st\n",
    "import pandas as pd\n",
    "\n",
    "st.title('st.file_uploader')\n",
    "\n",
    "st.subheader('Input CSV')\n",
    "uploaded_file = st.file_uploader(\"Choose a file\")\n",
    "\n",
    "if uploaded_file is not None:\n",
    "  df = pd.read_csv(uploaded_file)\n",
    "  st.subheader('DataFrame')\n",
    "  st.write(df)\n",
    "  st.subheader('Descriptive Statistics')\n",
    "  st.write(df.describe())\n",
    "else:\n",
    "  st.info('☝️ Upload a CSV file')"
   ]
  }
 ],
 "metadata": {
  "language_info": {
   "name": "python"
  }
 },
 "nbformat": 4,
 "nbformat_minor": 2
}
