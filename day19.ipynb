{
 "cells": [
  {
   "cell_type": "markdown",
   "metadata": {},
   "source": [
    "# How to layout your Streamlit app\n",
    "In this tutorial, we're going to use the following commands to layout our Streamlit app:\n",
    "\n",
    "- st.set_page_config(layout=\"wide\") - Displays the contents of the app in wide mode (otherwise by default, the contents are encapsulated in a fixed width box.\n",
    "- st.sidebar - Places the widgets or text/image displays in the sidebar.\n",
    "- st.expander - Places text/image displays inside a collapsible container box.\n",
    "- st.columns - Creates a tabular space (or column) within which contents can be placed inside."
   ]
  },
  {
   "cell_type": "code",
   "execution_count": null,
   "metadata": {},
   "outputs": [],
   "source": [
    "import streamlit as st\n",
    "\n",
    "st.set_page_config(layout=\"wide\")\n",
    "\n",
    "st.title('How to layout your Streamlit app')\n",
    "\n",
    "with st.expander('About this app'):\n",
    "  st.write('This app shows the various ways on how you can layout your Streamlit app.')\n",
    "  st.image('https://streamlit.io/images/brand/streamlit-logo-secondary-colormark-darktext.png', width=250)\n",
    "\n",
    "st.sidebar.header('Input')\n",
    "user_name = st.sidebar.text_input('What is your name?')\n",
    "user_emoji = st.sidebar.selectbox('Choose an emoji', ['', '😄', '😆', '😊', '😍', '😴', '😕', '😱'])\n",
    "user_food = st.sidebar.selectbox('What is your favorite food?', ['', 'Tom Yum Kung', 'Burrito', 'Lasagna', 'Hamburger', 'Pizza'])\n",
    "\n",
    "st.header('Output')\n",
    "\n",
    "col1, col2, col3 = st.columns(3)\n",
    "\n",
    "with col1:\n",
    "  if user_name != '':\n",
    "    st.write(f'👋 Hello {user_name}!')\n",
    "  else:\n",
    "    st.write('👈  Please enter your **name**!')\n",
    "\n",
    "with col2:\n",
    "  if user_emoji != '':\n",
    "    st.write(f'{user_emoji} is your favorite **emoji**!')\n",
    "  else:\n",
    "    st.write('👈 Please choose an **emoji**!')\n",
    "\n",
    "with col3:\n",
    "  if user_food != '':\n",
    "    st.write(f'🍴 **{user_food}** is your favorite **food**!')\n",
    "  else:\n",
    "    st.write('👈 Please choose your favorite **food**!')"
   ]
  }
 ],
 "metadata": {
  "language_info": {
   "name": "python"
  }
 },
 "nbformat": 4,
 "nbformat_minor": 2
}
