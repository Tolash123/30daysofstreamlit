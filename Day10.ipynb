{
 "cells": [
  {
   "cell_type": "markdown",
   "metadata": {},
   "source": [
    "# st.selectbox\n",
    "\n",
    "st.selectbox allows the display of a select widget.\n",
    "\n",
    "What we're building?\n",
    "A simple app that asks the user what their favorite color is.\n",
    "\n",
    "Flow of the app:\n",
    "\n",
    "User selects a color\n",
    "App prints out the selected color"
   ]
  },
  {
   "cell_type": "code",
   "execution_count": null,
   "metadata": {},
   "outputs": [],
   "source": [
    "# Code\n",
    "# Here's the code to implement the above mentioned app:\n",
    "\n",
    "import streamlit as st\n",
    "\n",
    "st.header('st.selectbox')\n",
    "\n",
    "option = st.selectbox(\n",
    "     'What is your favorite color?',\n",
    "     ('Blue', 'Red', 'Green'))\n",
    "\n",
    "st.write('Your favorite color is ', option)"
   ]
  }
 ],
 "metadata": {
  "language_info": {
   "name": "python"
  }
 },
 "nbformat": 4,
 "nbformat_minor": 2
}
